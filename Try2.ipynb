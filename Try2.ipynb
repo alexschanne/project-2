{
 "cells": [
  {
   "cell_type": "code",
   "execution_count": 1,
   "metadata": {},
   "outputs": [],
   "source": [
    "import pandas\n",
    "import sqlite3\n"
   ]
  },
  {
   "cell_type": "code",
   "execution_count": null,
   "metadata": {},
   "outputs": [],
   "source": [
    "# cnx = sqlite3.connect('rat_race_a.sqlite')\n",
    "# cr12b = pandas.read_csv('trial_info_data/CR12B/trials_info.csv')\n",
    "# cr12b.to_sql('cr12b_trials_info', cnx)\n",
    "\n",
    "# cr17b = pandas.read_csv('trial_info_data/CR17B/trials_info.csv')\n",
    "# cr17b.to_sql('cr17b_trials_info', cnx)\n",
    "\n",
    "# cr20b = pandas.read_csv('trial_info_data/CR20B/trials_info.csv')\n",
    "# cr20b.to_sql('cr20b_trials_info', cnx)\n",
    "\n",
    "# cr21a = pandas.read_csv('trial_info_data/CR21A/trials_info.csv')\n",
    "# cr21a.to_sql('cr21ab_trials_info', cnx)\n",
    "\n",
    "# cr24a = pandas.read_csv('trial_info_data/CR24A/trials_info.csv')\n",
    "# cr24a.to_sql('cr24a_trials_info', cnx)\n",
    "\n",
    "# yt6a = pandas.read_csv('trial_info_data/YT6A/trials_info.csv')\n",
    "# yt6a.to_sql('yt6a_trials_info', cnx)\n"
   ]
  },
  {
   "cell_type": "code",
   "execution_count": 2,
   "metadata": {},
   "outputs": [],
   "source": [
    "from sqlalchemy import create_engine\n",
    "from sqlalchemy import Column, Integer, String\n",
    "\n",
    "from sqlalchemy.ext.declarative import declarative_base\n",
    "Base = declarative_base()"
   ]
  },
  {
   "cell_type": "code",
   "execution_count": 3,
   "metadata": {},
   "outputs": [],
   "source": [
    "class ed(Base):\n",
    "    __tablename__ = 'cr12b_trials_info'\n",
    "    trial_number = Column(Integer, primary_key=True)\n",
    "    correct_side = Column(String(255))\n",
    "    stim_number = Column(Integer)\n",
    "    nonrandom= Column(Integer)\n",
    "    outcome= Column(String(255))\n",
    "    go_or_nogo= Column(String(255))\n",
    "    block=Column(Integer)\n",
    "    stim_name= Column(String(255))"
   ]
  },
  {
   "cell_type": "code",
   "execution_count": null,
   "metadata": {},
   "outputs": [],
   "source": [
    "# class madison(Base):\n",
    "#     __tablename__ = 'cr17b_trials_info'\n",
    "#     trial_number = Column(Integer, primary_key=True)\n",
    "#     correct_side = Column(String(255))\n",
    "#     stim_number = Column(Integer)\n",
    "#     nonrandom= Column(Integer)\n",
    "#     outcome= Column(String(255))\n",
    "#     go_or_nogo= Column(String(255))\n",
    "#     block=Column(Integer)\n",
    "#     stim_name= Column(String(255))"
   ]
  },
  {
   "cell_type": "code",
   "execution_count": null,
   "metadata": {},
   "outputs": [],
   "source": [
    "# class lucy(Base):\n",
    "#     __tablename__ = 'cr20b_trials_info'\n",
    "#     trial_number = Column(Integer, primary_key=True)\n",
    "#     correct_side = Column(String(255))\n",
    "#     stim_number = Column(Integer)\n",
    "#     nonrandom= Column(Integer)\n",
    "#     outcome= Column(String(255))\n",
    "#     go_or_nogo= Column(String(255))\n",
    "#     block=Column(Integer)\n",
    "#     stim_name= Column(String(255))"
   ]
  },
  {
   "cell_type": "code",
   "execution_count": null,
   "metadata": {},
   "outputs": [],
   "source": [
    "# class laurem(Base):\n",
    "#     __tablename__ = 'cr21a_trials_info'\n",
    "#     trial_number = Column(Integer, primary_key=True)\n",
    "#     correct_side = Column(String(255))\n",
    "#     stim_number = Column(Integer)\n",
    "#     nonrandom= Column(Integer)\n",
    "#     outcome= Column(String(255))\n",
    "#     go_or_nogo= Column(String(255))\n",
    "#     block=Column(Integer)\n",
    "#     stim_name= Column(String(255))"
   ]
  },
  {
   "cell_type": "code",
   "execution_count": null,
   "metadata": {},
   "outputs": [],
   "source": [
    "# class josh(Base):\n",
    "#     __tablename__ = 'cr24a_trials_info'\n",
    "#     trial_number = Column(Integer, primary_key=True)\n",
    "#     correct_side = Column(String(255))\n",
    "#     stim_number = Column(Integer)\n",
    "#     nonrandom= Column(Integer)\n",
    "#     outcome= Column(String(255))\n",
    "#     go_or_nogo= Column(String(255))\n",
    "#     block=Column(Integer)\n",
    "#     stim_name= Column(String(255))"
   ]
  },
  {
   "cell_type": "code",
   "execution_count": null,
   "metadata": {},
   "outputs": [],
   "source": [
    "# class marco(Base):\n",
    "#     __tablename__ = 'yt6a_trials_info'\n",
    "#     trial_number = Column(Integer, primary_key=True)\n",
    "#     correct_side = Column(String(255))\n",
    "#     stim_number = Column(Integer)\n",
    "#     nonrandom= Column(Integer)\n",
    "#     outcome= Column(String(255))\n",
    "#     go_or_nogo= Column(String(255))\n",
    "#     block=Column(Integer)\n",
    "#     stim_name= Column(String(255))"
   ]
  },
  {
   "cell_type": "code",
   "execution_count": 4,
   "metadata": {},
   "outputs": [],
   "source": [
    "engine = create_engine('sqlite:///rat_race_a.sqlite')\n",
    "Base.metadata.create_all(engine)"
   ]
  },
  {
   "cell_type": "code",
   "execution_count": 5,
   "metadata": {},
   "outputs": [],
   "source": [
    "from sqlalchemy.orm import Session\n",
    "session = Session(bind=engine)"
   ]
  },
  {
   "cell_type": "code",
   "execution_count": 20,
   "metadata": {},
   "outputs": [],
   "source": [
    "# rat_data = engine.execute(f'select * from cr12b_trials_info where stim_name=\"le_lc_go\" where outcome=\"hit\"')\n",
    "results = session.query(ed.trial_number,ed.correct_side,ed.stim_number,ed.nonrandom, ed.outcome,ed.go_or_nogo,ed.block,ed.stim_name).filter(ed.stim_name == \"le_lc_go\", ed.outcome=='hit').all()"
   ]
  },
  {
   "cell_type": "code",
   "execution_count": 23,
   "metadata": {},
   "outputs": [],
   "source": [
    "rats = ['le_lc_go', 'ri_lc_no', 'lo_pc_go', 'hi_pc_no', 'le_hi_lc', 'ri_hi_lc', 'le_lo_lc', 'ri_lo_lc', 'le_hi_pc', 'ri_hi_pc', 'le_lo_pc', 'ri_lo_pc']\n"
   ]
  },
  {
   "cell_type": "code",
   "execution_count": 42,
   "metadata": {},
   "outputs": [],
   "source": [
    "hits_outcomes =[]\n",
    "wrongs_outcomes =[]\n",
    "for r in rats:\n",
    "    hits = session.query(ed.outcome,ed.stim_name).filter(ed.stim_name == r, ed.outcome=='hit').all()\n",
    "    errors = session.query(ed.outcome,ed.stim_name).filter(ed.stim_name == r, ed.outcome=='error').all()\n",
    "    wrongs = session.query(ed.outcome,ed.stim_name).filter(ed.stim_name == r, ed.outcome=='wrong_port').all()\n",
    "    hits_outcomes.append(len(hits)+len(errors))\n",
    "    wrongs_outcomes.append(len(wrongs))\n",
    "        \n",
    "    "
   ]
  },
  {
   "cell_type": "code",
   "execution_count": 41,
   "metadata": {},
   "outputs": [
    {
     "data": {
      "text/plain": [
       "[[41, 0],\n",
       " [19, 0],\n",
       " [51, 1],\n",
       " [8, 0],\n",
       " [53, 1],\n",
       " [36, 0],\n",
       " [52, 2],\n",
       " [33, 3],\n",
       " [35, 1],\n",
       " [33, 0],\n",
       " [54, 2],\n",
       " [55, 0]]"
      ]
     },
     "execution_count": 41,
     "metadata": {},
     "output_type": "execute_result"
    }
   ],
   "source": [
    "outcomes\n"
   ]
  },
  {
   "cell_type": "code",
   "execution_count": null,
   "metadata": {},
   "outputs": [],
   "source": []
  },
  {
   "cell_type": "code",
   "execution_count": null,
   "metadata": {},
   "outputs": [],
   "source": []
  },
  {
   "cell_type": "code",
   "execution_count": null,
   "metadata": {},
   "outputs": [],
   "source": []
  },
  {
   "cell_type": "code",
   "execution_count": null,
   "metadata": {},
   "outputs": [],
   "source": []
  },
  {
   "cell_type": "code",
   "execution_count": null,
   "metadata": {},
   "outputs": [],
   "source": []
  },
  {
   "cell_type": "code",
   "execution_count": null,
   "metadata": {},
   "outputs": [],
   "source": []
  },
  {
   "cell_type": "code",
   "execution_count": null,
   "metadata": {},
   "outputs": [],
   "source": [
    "# df = pandas.read_sql_query(\"SELECT * FROM cr12b_trials_info\", cnx)\n",
    "# # df[[\"trial_number\",\"correct_side\"]]\n",
    "# df.trial_number"
   ]
  },
  {
   "cell_type": "code",
   "execution_count": null,
   "metadata": {
    "scrolled": true
   },
   "outputs": [],
   "source": [
    "# df = pandas.read_sql_query(\"SELECT * FROM yt6a_trials_info\", cnx)\n",
    "# df"
   ]
  },
  {
   "cell_type": "code",
   "execution_count": null,
   "metadata": {},
   "outputs": [],
   "source": [
    "# data = df.to_dict(orient='records')"
   ]
  },
  {
   "cell_type": "code",
   "execution_count": null,
   "metadata": {},
   "outputs": [],
   "source": [
    "# import json"
   ]
  },
  {
   "cell_type": "code",
   "execution_count": null,
   "metadata": {
    "scrolled": true
   },
   "outputs": [],
   "source": [
    "# data = json.dumps(data, indent=2)\n",
    "# data"
   ]
  },
  {
   "cell_type": "code",
   "execution_count": null,
   "metadata": {},
   "outputs": [],
   "source": [
    "# rat_data = {'rat_data': data}\n",
    "# rat_data"
   ]
  },
  {
   "cell_type": "code",
   "execution_count": null,
   "metadata": {},
   "outputs": [],
   "source": []
  }
 ],
 "metadata": {
  "kernelspec": {
   "display_name": "Python [conda env:PythonData] *",
   "language": "python",
   "name": "conda-env-PythonData-py"
  },
  "language_info": {
   "codemirror_mode": {
    "name": "ipython",
    "version": 3
   },
   "file_extension": ".py",
   "mimetype": "text/x-python",
   "name": "python",
   "nbconvert_exporter": "python",
   "pygments_lexer": "ipython3",
   "version": "3.6.10"
  }
 },
 "nbformat": 4,
 "nbformat_minor": 4
}
